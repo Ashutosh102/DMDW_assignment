{
 "cells": [
  {
   "cell_type": "code",
   "execution_count": 22,
   "id": "b3f40871",
   "metadata": {},
   "outputs": [],
   "source": [
    "import pandas as pd\n",
    "from pandas import read_csv\n",
    "from numpy import loadtxt\n",
    "import csv\n",
    "import numpy as np\n",
    "\n",
    "path =  r\"C:\\Users\\tcstcs\\Downloads\\IRIS2.csv\""
   ]
  },
  {
   "cell_type": "code",
   "execution_count": 15,
   "id": "16df0c4c",
   "metadata": {},
   "outputs": [],
   "source": [
    "with open(path,'r') as f:\n",
    " reader = csv.reader(f,delimiter = ',')\n",
    " headers = next(reader)\n",
    " data = list(reader)\n",
    " data = np.array(data)"
   ]
  },
  {
   "cell_type": "code",
   "execution_count": 16,
   "id": "c95f9d4f",
   "metadata": {},
   "outputs": [
    {
     "name": "stdout",
     "output_type": "stream",
     "text": [
      "['sepal_length', 'sepal_width', 'petal_length', 'petal_width', 'species']\n"
     ]
    }
   ],
   "source": [
    "print(headers)"
   ]
  },
  {
   "cell_type": "code",
   "execution_count": 17,
   "id": "0b448b2c",
   "metadata": {},
   "outputs": [
    {
     "name": "stdout",
     "output_type": "stream",
     "text": [
      "(150, 5)\n"
     ]
    }
   ],
   "source": [
    "print(data.shape)"
   ]
  },
  {
   "cell_type": "code",
   "execution_count": 20,
   "id": "b1149563",
   "metadata": {},
   "outputs": [
    {
     "name": "stdout",
     "output_type": "stream",
     "text": [
      "(150, 5)\n",
      "[['5.1' '3.5' '1.4' '0.2' 'Iris-setosa']\n",
      " ['4.9' '3' '1.4' '0.2' 'Iris-setosa']\n",
      " ['4.7' '3.2' '1.3' '0.2' 'Iris-setosa']]\n"
     ]
    }
   ],
   "source": [
    "datapath= open(path, 'r')\n",
    "\n",
    "print(data.shape)\n",
    "print(data[:3])"
   ]
  },
  {
   "cell_type": "code",
   "execution_count": 23,
   "id": "5e999e9b",
   "metadata": {},
   "outputs": [
    {
     "name": "stdout",
     "output_type": "stream",
     "text": [
      "(150, 5)\n",
      "   sepal_length  sepal_width  petal_length  petal_width      species\n",
      "0           5.1          3.5           1.4          0.2  Iris-setosa\n",
      "1           4.9          3.0           1.4          0.2  Iris-setosa\n",
      "2           4.7          3.2           1.3          0.2  Iris-setosa\n"
     ]
    }
   ],
   "source": [
    "data = read_csv(path)\n",
    "print(data.shape)\n",
    "print(data[:3])\n"
   ]
  },
  {
   "cell_type": "code",
   "execution_count": null,
   "id": "845d3e64",
   "metadata": {},
   "outputs": [],
   "source": []
  }
 ],
 "metadata": {
  "kernelspec": {
   "display_name": "Python 3 (ipykernel)",
   "language": "python",
   "name": "python3"
  },
  "language_info": {
   "codemirror_mode": {
    "name": "ipython",
    "version": 3
   },
   "file_extension": ".py",
   "mimetype": "text/x-python",
   "name": "python",
   "nbconvert_exporter": "python",
   "pygments_lexer": "ipython3",
   "version": "3.9.12"
  }
 },
 "nbformat": 4,
 "nbformat_minor": 5
}
